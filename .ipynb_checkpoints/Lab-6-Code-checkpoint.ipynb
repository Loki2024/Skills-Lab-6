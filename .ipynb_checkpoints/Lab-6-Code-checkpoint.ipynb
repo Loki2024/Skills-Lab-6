{
 "cells": [
  {
   "cell_type": "code",
   "execution_count": 8,
   "id": "b3b9d64f-dc7c-42c9-9789-2c97ca6a7b4d",
   "metadata": {},
   "outputs": [
    {
     "name": "stdin",
     "output_type": "stream",
     "text": [
      "What's your name:  Lokesh\n",
      "What's your age:  18\n"
     ]
    },
    {
     "name": "stdout",
     "output_type": "stream",
     "text": [
      "Your ID: {'Lokesh': 18}\n"
     ]
    }
   ],
   "source": [
    "name = input(\"What's your name: \")\n",
    "age = int(input(\"What's your age: \"))\n",
    "nameID = {name: age}\n",
    "print(\"Your ID:\", nameID)"
   ]
  },
  {
   "cell_type": "code",
   "execution_count": null,
   "id": "b30d148d-2102-4704-bc9f-ff03bf6ebacd",
   "metadata": {},
   "outputs": [],
   "source": []
  }
 ],
 "metadata": {
  "kernelspec": {
   "display_name": "Python 3 (ipykernel)",
   "language": "python",
   "name": "python3"
  },
  "language_info": {
   "codemirror_mode": {
    "name": "ipython",
    "version": 3
   },
   "file_extension": ".py",
   "mimetype": "text/x-python",
   "name": "python",
   "nbconvert_exporter": "python",
   "pygments_lexer": "ipython3",
   "version": "3.12.4"
  }
 },
 "nbformat": 4,
 "nbformat_minor": 5
}
